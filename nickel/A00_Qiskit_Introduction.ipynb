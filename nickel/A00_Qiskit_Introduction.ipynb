{
 "cells": [
  {
   "cell_type": "markdown",
   "metadata": {},
   "source": [
    "<table  align=\"left\" width=\"100%\"> <tr>\n",
    "        <td  style=\"background-color:#ffffff;\"><a href=\"https://qworld.net\" target=\"_blank\"><img src=\"../images/qworld.jpg\" width=\"35%\" align=\"left\"></a></td>\n",
    "        <td  align=\"right\" style=\"background-color:#ffffff;vertical-align:bottom;horizontal-align:right\">\n",
    "            prepared by Özlem Salehi (<a href=\"https://qworld.net/qturkey/\" target=\"_blank\">QTurkey</a>)\n",
    "        </td>        \n",
    "</tr></table>"
   ]
  },
  {
   "cell_type": "markdown",
   "metadata": {},
   "source": [
    "<h1> Introduction to Qiskit </h1>\n",
    "\n",
    "<hr>"
   ]
  },
  {
   "cell_type": "markdown",
   "metadata": {},
   "source": [
    "<hr>\n",
    "\n",
    "<h2>Creating quantum and classical registers</h2>"
   ]
  },
  {
   "cell_type": "markdown",
   "metadata": {},
   "source": [
    "In Qiskit, we use a _quantum register_ to store our qubits."
   ]
  },
  {
   "cell_type": "code",
   "execution_count": 2,
   "metadata": {},
   "outputs": [],
   "source": [
    "from qiskit import QuantumRegister, ClassicalRegister, QuantumCircuit\n",
    "\n",
    "# 4 is the number of qubits we want to create\n",
    "# qreg is the name of the quantum register\n",
    "qreg =  QuantumRegister(4) "
   ]
  },
  {
   "cell_type": "code",
   "execution_count": 3,
   "metadata": {},
   "outputs": [],
   "source": [
    "# You can give any name to your register\n",
    "output = QuantumRegister(1)"
   ]
  },
  {
   "cell_type": "markdown",
   "metadata": {},
   "source": [
    "Whenever a qubit is measured (which will be discussed soon), the result should be stored in a classical bit. We create a _classical register_ to store our classical bits."
   ]
  },
  {
   "cell_type": "code",
   "execution_count": 4,
   "metadata": {},
   "outputs": [],
   "source": [
    "# 4 is the number of classical bits we want to create\n",
    "# creg is the name of the classical register\n",
    "creg = ClassicalRegister(4) "
   ]
  },
  {
   "cell_type": "markdown",
   "metadata": {},
   "source": [
    "<hr>\n",
    "<h2>Creating Circuits</h2>"
   ]
  },
  {
   "cell_type": "markdown",
   "metadata": {},
   "source": [
    "A quantum circuit is composed of quantum and classical registers."
   ]
  },
  {
   "cell_type": "code",
   "execution_count": 5,
   "metadata": {},
   "outputs": [],
   "source": [
    "# Creating a quantum circuit consisting of quantum register qreg and classical register creg\n",
    "circuit = QuantumCircuit(qreg,creg)"
   ]
  },
  {
   "cell_type": "code",
   "execution_count": 6,
   "metadata": {},
   "outputs": [],
   "source": [
    "# You can create a quantum circuit with multiple quantum registers\n",
    "circuit2 = QuantumCircuit(qreg, output, creg)"
   ]
  },
  {
   "cell_type": "code",
   "execution_count": 7,
   "metadata": {},
   "outputs": [],
   "source": [
    "# You can create a quantum circuit consisting of only a quantum register if no measurement will take place\n",
    "circuit3 = QuantumCircuit(qreg)"
   ]
  },
  {
   "cell_type": "code",
   "execution_count": 8,
   "metadata": {},
   "outputs": [],
   "source": [
    "# Creating a quantum circuit without specfiying any registers is also possible \n",
    "# Creates a quantum circuit with 3 qubits and 3 classical bits\n",
    "circuit4 = QuantumCircuit(3,3)"
   ]
  },
  {
   "cell_type": "markdown",
   "metadata": {},
   "source": [
    "<hr>\n",
    "<h2>Gates</h2>"
   ]
  },
  {
   "cell_type": "markdown",
   "metadata": {},
   "source": [
    "Here are some _gates_ and how we apply them in Qiskit. Gates are applied to quantum circuit by specifying the qubits which they apply to."
   ]
  },
  {
   "cell_type": "code",
   "execution_count": 9,
   "metadata": {},
   "outputs": [
    {
     "data": {
      "text/plain": [
       "<qiskit.circuit.instructionset.InstructionSet at 0x7efe9bee89d0>"
      ]
     },
     "execution_count": 9,
     "metadata": {},
     "output_type": "execute_result"
    }
   ],
   "source": [
    "#Apply NOT gate to qubit 2\n",
    "circuit.x(qreg[2])\n",
    "\n",
    "#Apply Z gate to qubit 2\n",
    "circuit.z(qreg[2])\n",
    "\n",
    "#Apply H gate to qubit 3\n",
    "circuit.h(qreg[3])\n",
    "\n",
    "#Apply CNOT gate where qubit 2 is control and qubit 0 is target\n",
    "circuit.cx(qreg[2],qreg[0])\n",
    "\n",
    "#Apply CZ gate where qubit 0 is control and qubit 1 is target\n",
    "circuit.cz(qreg[0],qreg[1])\n",
    "\n",
    "#Apply SWAP gates to qubits 1 and 3 \n",
    "circuit.swap(qreg[1],qreg[3])\n",
    "\n",
    "#Apply CCNOT gate where qubit 0 and 1 are the control and qubit 2 is the target\n",
    "#Note that in Qiskit, it is possible to apply gates without specifying the register\n",
    "circuit.ccx(0,1,2)"
   ]
  },
  {
   "cell_type": "markdown",
   "metadata": {},
   "source": [
    "Let's draw our circuit to visualize the operations."
   ]
  },
  {
   "cell_type": "code",
   "execution_count": 10,
   "metadata": {},
   "outputs": [
    {
     "data": {
      "text/html": [
       "<pre style=\"word-wrap: normal;white-space: pre;background: #fff0;line-height: 1.1;font-family: &quot;Courier New&quot;,Courier,monospace\">                ┌───┐           \n",
       "q0_0: ──────────┤ X ├─■──────■──\n",
       "                └─┬─┘ │      │  \n",
       "q0_1: ────────────┼───■──X───■──\n",
       "      ┌───┐┌───┐  │      │ ┌─┴─┐\n",
       "q0_2: ┤ X ├┤ Z ├──■──────┼─┤ X ├\n",
       "      ├───┤└───┘         │ └───┘\n",
       "q0_3: ┤ H ├──────────────X──────\n",
       "      └───┘                     \n",
       "c0: 4/══════════════════════════\n",
       "                                </pre>"
      ],
      "text/plain": [
       "                ┌───┐           \n",
       "q0_0: ──────────┤ X ├─■──────■──\n",
       "                └─┬─┘ │      │  \n",
       "q0_1: ────────────┼───■──X───■──\n",
       "      ┌───┐┌───┐  │      │ ┌─┴─┐\n",
       "q0_2: ┤ X ├┤ Z ├──■──────┼─┤ X ├\n",
       "      ├───┤└───┘         │ └───┘\n",
       "q0_3: ┤ H ├──────────────X──────\n",
       "      └───┘                     \n",
       "c0: 4/══════════════════════════\n",
       "                                "
      ]
     },
     "execution_count": 10,
     "metadata": {},
     "output_type": "execute_result"
    }
   ],
   "source": [
    "circuit.draw()"
   ]
  },
  {
   "cell_type": "markdown",
   "metadata": {},
   "source": [
    "You may also use matplotlib to visualize your circuits."
   ]
  },
  {
   "cell_type": "code",
   "execution_count": 11,
   "metadata": {},
   "outputs": [
    {
     "data": {
      "image/png": "[encoded data removed]",
      "text/plain": [
       "<Figure size 639.969x451.5 with 1 Axes>"
      ]
     },
     "execution_count": 11,
     "metadata": {},
     "output_type": "execute_result"
    }
   ],
   "source": [
    "circuit.draw(output='mpl')"
   ]
  },
  {
   "cell_type": "markdown",
   "metadata": {},
   "source": [
    "### Task 1\n",
    "    \n",
    "Create a quantum circuit with 10 qubits. \n",
    "\n",
    "1. Apply $H$ gate to qubit 0. \n",
    "2. Apply nine $CNOT$ gates where qubit $0$ is the control and qubit $i$ is the target for $i=1\\cdots9$.\n",
    "\n",
    "Draw your circuit."
   ]
  },
  {
   "cell_type": "code",
   "execution_count": 26,
   "metadata": {},
   "outputs": [
    {
     "data": {
      "text/html": [
       "<pre style=\"word-wrap: normal;white-space: pre;background: #fff0;line-height: 1.1;font-family: &quot;Courier New&quot;,Courier,monospace\">       ┌───┐                                             \n",
       " q8_0: ┤ H ├──■────■────■────■────■────■────■────■────■──\n",
       "       └───┘┌─┴─┐  │    │    │    │    │    │    │    │  \n",
       " q8_1: ─────┤ X ├──┼────┼────┼────┼────┼────┼────┼────┼──\n",
       "            └───┘┌─┴─┐  │    │    │    │    │    │    │  \n",
       " q8_2: ──────────┤ X ├──┼────┼────┼────┼────┼────┼────┼──\n",
       "                 └───┘┌─┴─┐  │    │    │    │    │    │  \n",
       " q8_3: ───────────────┤ X ├──┼────┼────┼────┼────┼────┼──\n",
       "                      └───┘┌─┴─┐  │    │    │    │    │  \n",
       " q8_4: ────────────────────┤ X ├──┼────┼────┼────┼────┼──\n",
       "                           └───┘┌─┴─┐  │    │    │    │  \n",
       " q8_5: ─────────────────────────┤ X ├──┼────┼────┼────┼──\n",
       "                                └───┘┌─┴─┐  │    │    │  \n",
       " q8_6: ──────────────────────────────┤ X ├──┼────┼────┼──\n",
       "                                     └───┘┌─┴─┐  │    │  \n",
       " q8_7: ───────────────────────────────────┤ X ├──┼────┼──\n",
       "                                          └───┘┌─┴─┐  │  \n",
       " q8_8: ────────────────────────────────────────┤ X ├──┼──\n",
       "                                               └───┘┌─┴─┐\n",
       " q8_9: ─────────────────────────────────────────────┤ X ├\n",
       "                                                    └───┘\n",
       "c4: 10/══════════════════════════════════════════════════\n",
       "                                                         </pre>"
      ],
      "text/plain": [
       "       ┌───┐                                             \n",
       " q8_0: ┤ H ├──■────■────■────■────■────■────■────■────■──\n",
       "       └───┘┌─┴─┐  │    │    │    │    │    │    │    │  \n",
       " q8_1: ─────┤ X ├──┼────┼────┼────┼────┼────┼────┼────┼──\n",
       "            └───┘┌─┴─┐  │    │    │    │    │    │    │  \n",
       " q8_2: ──────────┤ X ├──┼────┼────┼────┼────┼────┼────┼──\n",
       "                 └───┘┌─┴─┐  │    │    │    │    │    │  \n",
       " q8_3: ───────────────┤ X ├──┼────┼────┼────┼────┼────┼──\n",
       "                      └───┘┌─┴─┐  │    │    │    │    │  \n",
       " q8_4: ────────────────────┤ X ├──┼────┼────┼────┼────┼──\n",
       "                           └───┘┌─┴─┐  │    │    │    │  \n",
       " q8_5: ─────────────────────────┤ X ├──┼────┼────┼────┼──\n",
       "                                └───┘┌─┴─┐  │    │    │  \n",
       " q8_6: ──────────────────────────────┤ X ├──┼────┼────┼──\n",
       "                                     └───┘┌─┴─┐  │    │  \n",
       " q8_7: ───────────────────────────────────┤ X ├──┼────┼──\n",
       "                                          └───┘┌─┴─┐  │  \n",
       " q8_8: ────────────────────────────────────────┤ X ├──┼──\n",
       "                                               └───┘┌─┴─┐\n",
       " q8_9: ─────────────────────────────────────────────┤ X ├\n",
       "                                                    └───┘\n",
       "c4: 10/══════════════════════════════════════════════════\n",
       "                                                         "
      ]
     },
     "execution_count": 26,
     "metadata": {},
     "output_type": "execute_result"
    }
   ],
   "source": [
    "from qiskit import QuantumRegister, ClassicalRegister, QuantumCircuit\n",
    "\n",
    "# Create quantum and classical registers with 10 qubits\n",
    "qreg = QuantumRegister(10)\n",
    "creg = ClassicalRegister(10) #For this question we don't need to create this\n",
    "\n",
    "# Create a new circuit\n",
    "circuit = QuantumCircuit(qreg,creg)\n",
    "\n",
    "# Apply H to qubit 0\n",
    "circuit.h(qreg[0])\n",
    "\n",
    "# Apply CX gates\n",
    "for i in range(1,10):\n",
    "    circuit.cx(qreg[0],qreg[i])\n",
    "    \n",
    "circuit.draw()"
   ]
  },
  {
   "cell_type": "markdown",
   "metadata": {},
   "source": [
    "<h2> More about gates </h2>"
   ]
  },
  {
   "cell_type": "markdown",
   "metadata": {},
   "source": [
    "It is possible to apply a gate to multiple qubits at once."
   ]
  },
  {
   "cell_type": "code",
   "execution_count": 27,
   "metadata": {},
   "outputs": [
    {
     "data": {
      "text/html": [
       "<pre style=\"word-wrap: normal;white-space: pre;background: #fff0;line-height: 1.1;font-family: &quot;Courier New&quot;,Courier,monospace\">       ┌───┐\n",
       " q8_0: ┤ H ├\n",
       "       ├───┤\n",
       " q8_1: ┤ H ├\n",
       "       ├───┤\n",
       " q8_2: ┤ H ├\n",
       "       ├───┤\n",
       " q8_3: ┤ H ├\n",
       "       ├───┤\n",
       " q8_4: ┤ H ├\n",
       "       ├───┤\n",
       " q8_5: ┤ H ├\n",
       "       ├───┤\n",
       " q8_6: ┤ H ├\n",
       "       ├───┤\n",
       " q8_7: ┤ H ├\n",
       "       ├───┤\n",
       " q8_8: ┤ H ├\n",
       "       ├───┤\n",
       " q8_9: ┤ H ├\n",
       "       └───┘\n",
       "c4: 10/═════\n",
       "            </pre>"
      ],
      "text/plain": [
       "       ┌───┐\n",
       " q8_0: ┤ H ├\n",
       "       ├───┤\n",
       " q8_1: ┤ H ├\n",
       "       ├───┤\n",
       " q8_2: ┤ H ├\n",
       "       ├───┤\n",
       " q8_3: ┤ H ├\n",
       "       ├───┤\n",
       " q8_4: ┤ H ├\n",
       "       ├───┤\n",
       " q8_5: ┤ H ├\n",
       "       ├───┤\n",
       " q8_6: ┤ H ├\n",
       "       ├───┤\n",
       " q8_7: ┤ H ├\n",
       "       ├───┤\n",
       " q8_8: ┤ H ├\n",
       "       ├───┤\n",
       " q8_9: ┤ H ├\n",
       "       └───┘\n",
       "c4: 10/═════\n",
       "            "
      ]
     },
     "execution_count": 27,
     "metadata": {},
     "output_type": "execute_result"
    }
   ],
   "source": [
    "# Create a new circuit\n",
    "circuit2 = QuantumCircuit(qreg,creg)\n",
    "circuit2.h(qreg)\n",
    "circuit2.draw()"
   ]
  },
  {
   "cell_type": "markdown",
   "metadata": {},
   "source": [
    "<i>controlled</i> function creates the controlled version of a gate."
   ]
  },
  {
   "cell_type": "code",
   "execution_count": 14,
   "metadata": {},
   "outputs": [
    {
     "data": {
      "text/html": [
       "<pre style=\"word-wrap: normal;white-space: pre;background: #fff0;line-height: 1.1;font-family: &quot;Courier New&quot;,Courier,monospace\">      ┌───┐     \n",
       "q0_0: ┤ H ├──■──\n",
       "      ├───┤  │  \n",
       "q0_1: ┤ H ├──■──\n",
       "      ├───┤┌─┴─┐\n",
       "q0_2: ┤ H ├┤ H ├\n",
       "      ├───┤└─┬─┘\n",
       "q0_3: ┤ H ├──■──\n",
       "      └───┘     \n",
       "c0: 4/══════════\n",
       "                </pre>"
      ],
      "text/plain": [
       "      ┌───┐     \n",
       "q0_0: ┤ H ├──■──\n",
       "      ├───┤  │  \n",
       "q0_1: ┤ H ├──■──\n",
       "      ├───┤┌─┴─┐\n",
       "q0_2: ┤ H ├┤ H ├\n",
       "      ├───┤└─┬─┘\n",
       "q0_3: ┤ H ├──■──\n",
       "      └───┘     \n",
       "c0: 4/══════════\n",
       "                "
      ]
     },
     "execution_count": 14,
     "metadata": {},
     "output_type": "execute_result"
    }
   ],
   "source": [
    "# To be able to use the control function with H gate, we need to import H gate class\n",
    "from qiskit.circuit.library.standard_gates import HGate\n",
    "\n",
    "CCCH = HGate().control(3)\n",
    "\n",
    "# The first 3 qubits act as the control and the last qubit is the target\n",
    "circuit2.append(CCCH,[0,1,3,2])\n",
    "\n",
    "circuit2.draw()"
   ]
  },
  {
   "cell_type": "markdown",
   "metadata": {},
   "source": [
    "One can define new gates by arithmetic operations as well"
   ]
  },
  {
   "cell_type": "code",
   "execution_count": 15,
   "metadata": {},
   "outputs": [
    {
     "data": {
      "text/html": [
       "<pre style=\"word-wrap: normal;white-space: pre;background: #fff0;line-height: 1.1;font-family: &quot;Courier New&quot;,Courier,monospace\">      ┌───┐              \n",
       "q0_0: ┤ H ├──■───────────\n",
       "      ├───┤  │  ┌───────┐\n",
       "q0_1: ┤ H ├──■──┤ x^0.5 ├\n",
       "      ├───┤┌─┴─┐└───────┘\n",
       "q0_2: ┤ H ├┤ H ├─────────\n",
       "      ├───┤└─┬─┘         \n",
       "q0_3: ┤ H ├──■───────────\n",
       "      └───┘              \n",
       "c0: 4/═══════════════════\n",
       "                         </pre>"
      ],
      "text/plain": [
       "      ┌───┐              \n",
       "q0_0: ┤ H ├──■───────────\n",
       "      ├───┤  │  ┌───────┐\n",
       "q0_1: ┤ H ├──■──┤ x^0.5 ├\n",
       "      ├───┤┌─┴─┐└───────┘\n",
       "q0_2: ┤ H ├┤ H ├─────────\n",
       "      ├───┤└─┬─┘         \n",
       "q0_3: ┤ H ├──■───────────\n",
       "      └───┘              \n",
       "c0: 4/═══════════════════\n",
       "                         "
      ]
     },
     "execution_count": 15,
     "metadata": {},
     "output_type": "execute_result"
    }
   ],
   "source": [
    "from qiskit.circuit.library.standard_gates import XGate\n",
    "ROOTX = XGate().power(exponent=0.5)\n",
    "circuit2.append(ROOTX,[1])\n",
    "circuit2.draw()"
   ]
  },
  {
   "cell_type": "markdown",
   "metadata": {},
   "source": [
    "### Task 2\n",
    "    \n",
    "Create a quantum circuit with 10 qubits. \n",
    "\n",
    "1. Apply $H$ gates to all qubits.\n",
    "2. Apply $X$ gate to qubit 0 controlled by qubits 1-9\n",
    "2. Apply $H$ gates to all qubits.\n",
    "\n",
    "Draw your circuit."
   ]
  },
  {
   "cell_type": "code",
   "execution_count": 28,
   "metadata": {},
   "outputs": [
    {
     "data": {
      "text/html": [
       "<pre style=\"word-wrap: normal;white-space: pre;background: #fff0;line-height: 1.1;font-family: &quot;Courier New&quot;,Courier,monospace\">       ┌───┐┌───┐┌───┐\n",
       " q9_0: ┤ H ├┤ X ├┤ H ├\n",
       "       ├───┤└─┬─┘├───┤\n",
       " q9_1: ┤ H ├──■──┤ H ├\n",
       "       ├───┤  │  ├───┤\n",
       " q9_2: ┤ H ├──■──┤ H ├\n",
       "       ├───┤  │  ├───┤\n",
       " q9_3: ┤ H ├──■──┤ H ├\n",
       "       ├───┤  │  ├───┤\n",
       " q9_4: ┤ H ├──■──┤ H ├\n",
       "       ├───┤  │  ├───┤\n",
       " q9_5: ┤ H ├──■──┤ H ├\n",
       "       ├───┤  │  ├───┤\n",
       " q9_6: ┤ H ├──■──┤ H ├\n",
       "       ├───┤  │  ├───┤\n",
       " q9_7: ┤ H ├──■──┤ H ├\n",
       "       ├───┤  │  ├───┤\n",
       " q9_8: ┤ H ├──■──┤ H ├\n",
       "       ├───┤  │  ├───┤\n",
       " q9_9: ┤ H ├──■──┤ H ├\n",
       "       └───┘     └───┘\n",
       "c5: 10/═══════════════\n",
       "                      </pre>"
      ],
      "text/plain": [
       "       ┌───┐┌───┐┌───┐\n",
       " q9_0: ┤ H ├┤ X ├┤ H ├\n",
       "       ├───┤└─┬─┘├───┤\n",
       " q9_1: ┤ H ├──■──┤ H ├\n",
       "       ├───┤  │  ├───┤\n",
       " q9_2: ┤ H ├──■──┤ H ├\n",
       "       ├───┤  │  ├───┤\n",
       " q9_3: ┤ H ├──■──┤ H ├\n",
       "       ├───┤  │  ├───┤\n",
       " q9_4: ┤ H ├──■──┤ H ├\n",
       "       ├───┤  │  ├───┤\n",
       " q9_5: ┤ H ├──■──┤ H ├\n",
       "       ├───┤  │  ├───┤\n",
       " q9_6: ┤ H ├──■──┤ H ├\n",
       "       ├───┤  │  ├───┤\n",
       " q9_7: ┤ H ├──■──┤ H ├\n",
       "       ├───┤  │  ├───┤\n",
       " q9_8: ┤ H ├──■──┤ H ├\n",
       "       ├───┤  │  ├───┤\n",
       " q9_9: ┤ H ├──■──┤ H ├\n",
       "       └───┘     └───┘\n",
       "c5: 10/═══════════════\n",
       "                      "
      ]
     },
     "execution_count": 28,
     "metadata": {},
     "output_type": "execute_result"
    }
   ],
   "source": [
    "from qiskit import QuantumRegister, ClassicalRegister, QuantumCircuit\n",
    "from qiskit.circuit.library.standard_gates import XGate\n",
    "\n",
    "# Create quantum and classical registers with 10 qubits\n",
    "qreg = QuantumRegister(10)\n",
    "creg = ClassicalRegister(10) #For this question we don't need to create classical register\n",
    "\n",
    "# Create a new circuit\n",
    "circuit = QuantumCircuit(qreg,creg)\n",
    "\n",
    "# Apply H to all qubits\n",
    "circuit.h(qreg)\n",
    "\n",
    "# Create a controlled version of the NOT gate\n",
    "C9X = XGate().control(9)\n",
    "\n",
    "# Qubits 1-9 are the control and qubit 0 is the target\n",
    "# In python, you can use + to concatanate to lists\n",
    "circuit.append(C9X,list(range(1,10)) + [0])\n",
    "\n",
    "# Apply H to all qubits\n",
    "circuit.h(qreg)\n",
    "\n",
    "circuit.draw()"
   ]
  },
  {
   "cell_type": "markdown",
   "metadata": {},
   "source": [
    "<hr>\n",
    "<h2>Running Circuits</h2>"
   ]
  },
  {
   "cell_type": "markdown",
   "metadata": {},
   "source": [
    "One way to get results from your circuit is to measure and run it for multiple times. \n",
    "\n",
    "Let's first create a simple circuit and measure it. "
   ]
  },
  {
   "cell_type": "code",
   "execution_count": 30,
   "metadata": {},
   "outputs": [
    {
     "data": {
      "text/plain": [
       "<qiskit.circuit.instructionset.InstructionSet at 0x7efe83386560>"
      ]
     },
     "execution_count": 30,
     "metadata": {},
     "output_type": "execute_result"
    }
   ],
   "source": [
    "from qiskit import QuantumRegister, ClassicalRegister, QuantumCircuit\n",
    "\n",
    "# Create quantum and classical registers with 2 qubits\n",
    "qreg = QuantumRegister(2)\n",
    "creg = ClassicalRegister(1) \n",
    "\n",
    "# Create a new circuit\n",
    "circuit = QuantumCircuit(qreg,creg)\n",
    "\n",
    "# Apply H gate to qubit 0\n",
    "circuit.h(qreg[0])\n",
    "\n",
    "# Measure both qubits\n",
    "circuit.measure(qreg[0],creg[0])"
   ]
  },
  {
   "cell_type": "markdown",
   "metadata": {},
   "source": [
    "Next we will run our circuit multiple times and take samples."
   ]
  },
  {
   "cell_type": "code",
   "execution_count": 31,
   "metadata": {},
   "outputs": [
    {
     "name": "stdout",
     "output_type": "stream",
     "text": [
      "{'1': 50, '0': 50}\n"
     ]
    }
   ],
   "source": [
    "from qiskit_aer import AerSimulator\n",
    "\n",
    "# First create a simulator and execute it.\n",
    "job = AerSimulator().run(circuit,shots=100)\n",
    "\n",
    "# Get the results as a dictionary\n",
    "counts = job.result().get_counts(circuit)\n",
    "print(counts) "
   ]
  },
  {
   "cell_type": "markdown",
   "metadata": {},
   "source": [
    "The output of the circuit are the states $\\ket{00}$ and $\\ket{01}$ and they are measued almost equal number of times. At this point, we need to make a note about the order of the qubits in Qiskit."
   ]
  },
  {
   "cell_type": "markdown",
   "metadata": {},
   "source": [
    "Qiskit combines the two quantum bits in the following order:\n",
    "\n",
    "$$ qreg[1], qreg[0]$$\n",
    "\n",
    "For example, when $X$ gate is applied to qreg[0], the state $\\ket{00}$ becomes $\\ket{01}$. If you want to obtain state $\\ket{10}$, then you should apply $X$ gate to qreg[1].\n"
   ]
  },
  {
   "cell_type": "markdown",
   "metadata": {},
   "source": [
    "It is also possible to measure only some of the qubits. Let's only measure qreg[0] this time."
   ]
  },
  {
   "cell_type": "code",
   "execution_count": 19,
   "metadata": {},
   "outputs": [
    {
     "name": "stdout",
     "output_type": "stream",
     "text": [
      "{'0': 492, '1': 508}\n"
     ]
    }
   ],
   "source": [
    "from qiskit import QuantumRegister, ClassicalRegister, QuantumCircuit\n",
    "\n",
    "# Create quantum and classical registers with 2 qubits\n",
    "qreg = QuantumRegister(2)\n",
    "creg = ClassicalRegister(1) # It is enough to create a clasical register with 1 bit\n",
    "\n",
    "# Create a new circuit\n",
    "circuit = QuantumCircuit(qreg,creg)\n",
    "\n",
    "# Apply H gate to qubit 0\n",
    "circuit.h(qreg[0])\n",
    "\n",
    "# Measure qreg[0]\n",
    "circuit.measure(qreg[0],creg[0])\n",
    "\n",
    "job = AerSimulator().run(circuit,shots=1000)\n",
    "counts = job.result().get_counts()\n",
    "print(counts) "
   ]
  },
  {
   "cell_type": "markdown",
   "metadata": {},
   "source": [
    "### Task 3\n",
    "    \n",
    "Implement the circuit in Task 1. Measure all the qubits and simulate your circuit for 1000 times."
   ]
  },
  {
   "cell_type": "code",
   "execution_count": 32,
   "metadata": {},
   "outputs": [
    {
     "name": "stdout",
     "output_type": "stream",
     "text": [
      "{'1111111111': 486, '0000000000': 514}\n"
     ]
    }
   ],
   "source": [
    "from qiskit import QuantumRegister, ClassicalRegister, QuantumCircuit\n",
    "from qiskit_aer import AerSimulator\n",
    "\n",
    "\n",
    "# Create quantum and classical registers with 10 qubits\n",
    "qreg = QuantumRegister(10)\n",
    "creg = ClassicalRegister(10)\n",
    "\n",
    "# Create a new circuit\n",
    "circuit = QuantumCircuit(qreg,creg)\n",
    "\n",
    "# Apply H to qubit 0\n",
    "circuit.h(qreg[0])\n",
    "\n",
    "# Apply CX gates\n",
    "for i in range(1,10):\n",
    "    circuit.cx(qreg[0],qreg[i])\n",
    "    \n",
    "circuit.measure(qreg,creg)\n",
    "\n",
    "# This is the local simulator \n",
    "# Shots is the how many times we want to run the circuit\n",
    "job = AerSimulator().run(circuit,shots=1000)\n",
    "\n",
    "# Get the results as a dictionary\n",
    "counts = job.result().get_counts(circuit)\n",
    "print(counts) "
   ]
  },
  {
   "cell_type": "markdown",
   "metadata": {},
   "source": [
    "## Debugging the circuits - State Representation"
   ]
  },
  {
   "cell_type": "markdown",
   "metadata": {},
   "source": [
    "It is possible to get the exact quantum state from the simulator. You shouldn't measure your circuit before getting the state. \n",
    "\n",
    "We will use the <i>StatevectorSimulator</i> backend to obtain the vector representing the quantum state."
   ]
  },
  {
   "cell_type": "code",
   "execution_count": 33,
   "metadata": {},
   "outputs": [
    {
     "name": "stdout",
     "output_type": "stream",
     "text": [
      "Statevector([0.707+0.j, 0.707+0.j, 0.   +0.j, 0.   +0.j],\n",
      "            dims=(2, 2))\n"
     ]
    }
   ],
   "source": [
    "from qiskit import QuantumRegister, ClassicalRegister, QuantumCircuit\n",
    "from qiskit_aer import StatevectorSimulator\n",
    "\n",
    "# Create quantum and classical registers with 2 qubits\n",
    "qreg = QuantumRegister(2)\n",
    "creg = ClassicalRegister(2)\n",
    "\n",
    "# Create a new circuit\n",
    "circuit = QuantumCircuit(qreg,creg)\n",
    "\n",
    "# Apply H gate to qubit 0\n",
    "circuit.h(qreg[0])\n",
    "\n",
    "# This is the statevector simulator\n",
    "job = StatevectorSimulator().run(circuit)\n",
    "state = job.result().get_statevector(decimals=3)\n",
    "print(state) "
   ]
  },
  {
   "cell_type": "markdown",
   "metadata": {},
   "source": [
    "If you use simulator after the measurement, you will observe that the quantum state has collapsed to one of the states."
   ]
  },
  {
   "cell_type": "code",
   "execution_count": 34,
   "metadata": {},
   "outputs": [
    {
     "name": "stdout",
     "output_type": "stream",
     "text": [
      "Statevector([1.+0.j, 0.+0.j, 0.+0.j, 0.+0.j],\n",
      "            dims=(2, 2))\n"
     ]
    }
   ],
   "source": [
    "circuit.measure(qreg,creg)\n",
    "job = StatevectorSimulator().run(circuit)\n",
    "state = job.result().get_statevector(decimals=3)\n",
    "print(state) "
   ]
  },
  {
   "cell_type": "markdown",
   "metadata": {},
   "source": [
    "### Task 4\n",
    "    \n",
    "Create a quantum circuit with 4 qubits. Apply Hadamard gate to each qubit and $CZ$ gate to qreg[3] and qreg[2]. Use the simulator without measuring the circuit. Check the entries with negative sign."
   ]
  },
  {
   "cell_type": "code",
   "execution_count": 35,
   "metadata": {},
   "outputs": [
    {
     "name": "stdout",
     "output_type": "stream",
     "text": [
      "Statevector([ 0.25+0.j,  0.25+0.j,  0.25+0.j,  0.25+0.j,  0.25+0.j,\n",
      "              0.25+0.j,  0.25+0.j,  0.25+0.j,  0.25+0.j,  0.25+0.j,\n",
      "              0.25+0.j,  0.25+0.j, -0.25+0.j, -0.25+0.j, -0.25+0.j,\n",
      "             -0.25+0.j],\n",
      "            dims=(2, 2, 2, 2))\n"
     ]
    }
   ],
   "source": [
    "from qiskit import QuantumRegister, ClassicalRegister, QuantumCircuit\n",
    "from qiskit_aer import StatevectorSimulator\n",
    "#\n",
    "# Create quantum and classical registers with 4 qubits\n",
    "qreg = QuantumRegister(4)\n",
    "creg = ClassicalRegister(4)\n",
    "\n",
    "# Create a new circuit\n",
    "circuit = QuantumCircuit(qreg,creg)\n",
    "\n",
    "# Apply H gate to all qubits\n",
    "circuit.h(qreg)\n",
    "\n",
    "# Apply Z gate to qreg[0]\n",
    "circuit.cz(qreg[3],qreg[2])\n",
    "\n",
    "job = StatevectorSimulator().run(circuit)\n",
    "state = job.result().get_statevector(decimals=3)\n",
    "print(state) \n"
   ]
  },
  {
   "cell_type": "markdown",
   "metadata": {},
   "source": [
    "The states $\\ket{1100}$, $\\ket{1101}$, $\\ket{1110}$, $\\ket{1111}$ have the negative sign."
   ]
  },
  {
   "cell_type": "markdown",
   "metadata": {},
   "source": [
    "<hr>\n",
    "<h2>Unitary Matrix Representation</h2>"
   ]
  },
  {
   "cell_type": "markdown",
   "metadata": {},
   "source": [
    "It is possible to obtain <i>unitary</i> matrix representation of gates and circuits."
   ]
  },
  {
   "cell_type": "code",
   "execution_count": 24,
   "metadata": {},
   "outputs": [
    {
     "name": "stdout",
     "output_type": "stream",
     "text": [
      "Unitary matrix representation of the CNOT gate\n",
      "[[1.+0.j 0.+0.j 0.+0.j 0.+0.j]\n",
      " [0.+0.j 0.+0.j 0.+0.j 1.+0.j]\n",
      " [0.+0.j 0.+0.j 1.+0.j 0.+0.j]\n",
      " [0.+0.j 1.+0.j 0.+0.j 0.+0.j]]\n",
      "Unitary matrix representation of the ROOTX gate we have created\n",
      "[[0.5+0.5j 0.5-0.5j]\n",
      " [0.5-0.5j 0.5+0.5j]]\n"
     ]
    }
   ],
   "source": [
    "from qiskit.circuit.library.standard_gates import XGate, CXGate\n",
    "\n",
    "ROOTX = XGate().power(exponent=0.5)\n",
    "\n",
    "print('Unitary matrix representation of the CNOT gate')\n",
    "print(CXGate().to_matrix())\n",
    "print('Unitary matrix representation of the ROOTX gate we have created')\n",
    "print(ROOTX.to_matrix())"
   ]
  },
  {
   "cell_type": "code",
   "execution_count": 36,
   "metadata": {},
   "outputs": [
    {
     "name": "stdout",
     "output_type": "stream",
     "text": [
      "Unitary matrix representation of H operator on 2 qubits.\n",
      "Operator([[ 0.5+0.j,  0.5-0.j,  0.5-0.j,  0.5-0.j],\n",
      "          [ 0.5+0.j, -0.5+0.j,  0.5-0.j, -0.5+0.j],\n",
      "          [ 0.5+0.j,  0.5-0.j, -0.5+0.j, -0.5+0.j],\n",
      "          [ 0.5+0.j, -0.5+0.j, -0.5+0.j,  0.5-0.j]],\n",
      "         input_dims=(2, 2), output_dims=(2, 2))\n"
     ]
    }
   ],
   "source": [
    "from qiskit_aer import UnitarySimulator\n",
    "\n",
    "# Quantum register with 2 qubits\n",
    "qreg = QuantumRegister(2)\n",
    "circuit = QuantumCircuit(qreg)\n",
    "\n",
    "# Apply H gate to all qubits\n",
    "circuit.h(qreg)\n",
    "\n",
    "# Unitary simulator\n",
    "job = UnitarySimulator().run(circuit)\n",
    "matrix = job.result().get_unitary(decimals=3)\n",
    "\n",
    "print('Unitary matrix representation of H operator on 2 qubits.')\n",
    "print(matrix) "
   ]
  }
 ],
 "metadata": {
  "kernelspec": {
   "display_name": "Python 3 (ipykernel)",
   "language": "python",
   "name": "python3"
  },
  "language_info": {
   "codemirror_mode": {
    "name": "ipython",
    "version": 3
   },
   "file_extension": ".py",
   "mimetype": "text/x-python",
   "name": "python",
   "nbconvert_exporter": "python",
   "pygments_lexer": "ipython3",
   "version": "3.12.4"
  }
 },
 "nbformat": 4,
 "nbformat_minor": 4
}
