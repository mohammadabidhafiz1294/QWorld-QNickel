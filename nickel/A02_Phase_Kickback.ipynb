{
 "cells": [
  {
   "cell_type": "markdown",
   "metadata": {},
   "source": [
    "<table> <tr>\n",
    "        <td  style=\"background-color:#ffffff;\">\n",
    "            <a href=\"https://qworld.net\" target=\"_blank\"><img src=\"../images/qworld.jpg\" width=\"25%\" align=\"left\"> </a></td>\n",
    "        <td style=\"background-color:#ffffff;vertical-align:bottom;text-align:right;\">\n",
    "            prepared by <a href=\"http://abu.lu.lv\" target=\"_blank\">Abuzer Yakaryilmaz</a> (<a href=\"https://qworld.net/qlatvia/\" target=\"_blank\">QLatvia</a>) and Özlem Salehi (<a href=\"https://qworld.net/qturkey/\" target=\"_blank\">QTurkey</a>)\n",
    "        </td>        \n",
    "</tr></table>\n"
   ]
  },
  {
   "cell_type": "markdown",
   "metadata": {},
   "source": [
    "<h1>Phase Kickback</h1>\n"
   ]
  },
  {
   "cell_type": "markdown",
   "metadata": {},
   "source": [
    "In this notebook, we will look at an interesting phenomenon in quantum systems. Before going into the details, we should make some definitions.\n"
   ]
  },
  {
   "cell_type": "markdown",
   "metadata": {},
   "source": [
    "Phase kickback is a phenomenon in quantum computing where the phase of a control qubit is affected by the state of a target qubit in a controlled operation, such as a controlled unitary gate. This concept is particularly useful in several quantum algorithms, such as Shor's algorithm and Grover's algorithm, as well as in implementing quantum gates and error correction protocols.\n",
    "\n",
    "### Detailed Explanation:\n",
    "\n",
    "1. **Controlled Unitary Operations**:\n",
    "   A controlled unitary operation \\( $CU$ \\) applies a unitary operation \\( U \\) to the target qubit(s) if and only if the control qubit is in the state \\( $\\ket{1}$ \\). Mathematically, this can be represented as:\n",
    "   \n",
    "   $$CU \\ket{c} \\ket{\\psi} = \\ket{c} U^c \\ket{\\psi}$$\n",
    "   \n",
    "   where \\( c \\) is the state of the control qubit (0 or 1), and \\( $\\ket{\\psi}$ \\) is the state of the target qubit(s).\n",
    "\n",
    "2. **Phase Kickback Mechanism**:\n",
    "   Consider a controlled-\\( U \\) operation where \\( U \\) is a unitary operation that acts on the target qubit and adds a phase to its state. Specifically, suppose \\( U \\) is a phase gate \\( P($\\theta$) \\) which adds a phase \\( $\\theta$ \\) to the target qubit:\n",
    "   \n",
    "   $$P(\\theta) \\ket{0} = \\ket{0}$$\n",
    "   $$P(\\theta) \\ket{1} = e^{i\\theta} \\ket{1}$$\n",
    "   \n",
    "   Now, apply a controlled-\\( P($\\theta$) \\) gate where the control qubit is \\( \\ket{c} \\) and the target qubit is \\( $\\ket{t}$ \\). The operation can be described as:\n",
    "\n",
    "   $$CU \\ket{c} \\ket{t} = \\ket{c} P(\\theta)^c \\ket{t}$$\n",
    "  \n",
    "\n",
    "3. **Phase Addition**:\n",
    "   When the target qubit is in a superposition state, the controlled operation introduces a phase depending on the state of the control qubit. For example, if the control qubit is in the state \\( $\\ket{+} = \\frac{1}{\\sqrt{2}} (\\ket{0} + \\ket{1})$ \\) and the target qubit is in \\( $\\ket{1}$ \\), the controlled phase gate will act as follows:\n",
    "  \n",
    "   $$\\ket{+} \\ket{1} = \\frac{1}{\\sqrt{2}} (\\ket{0} + \\ket{1}) \\ket{1}$$\n",
    "\n",
    "    $$\\rightarrow \\frac{1}{\\sqrt{2}} (\\ket{0} \\ket{1} + \\ket{1} e^{i\\theta} \\ket{1}) = \\frac{1}{\\sqrt{2}} (\\ket{0} \\ket{1} + e^{i\\theta} \\ket{1} \\ket{1})$$\n",
    "\n",
    "4. **Effect on Control Qubit**:\n",
    "   When you measure the target qubit, if it collapses to \\( \\ket{1} \\), the control qubit will acquire a relative phase \\( e^{i\\theta} \\):\n",
    "   $$\\frac{1}{\\sqrt{2}} (\\ket{0} + e^{i\\theta} \\ket{1}) = e^{i\\theta/2} \\frac{1}{\\sqrt{2}} (\\ket{0} e^{-i\\theta/2} + \\ket{1} e^{i\\theta/2})$$\n",
    "   This shows that the control qubit $\\ket{c}$ has \"kicked back\" the phase $\\theta$ to itself.\n",
    "\n",
    "### Applications of Phase Kickback:\n",
    "\n",
    "Phase kickback is a fundamental concept used in several quantum algorithms and operations:\n",
    "\n",
    "1. **Quantum Phase Estimation**:\n",
    "   The quantum phase estimation algorithm relies on phase kickback to estimate the phase \\( $\\phi$ \\) in eigenvalue equations of unitary operators. Here, the control qubits accumulate the phase information through controlled operations.\n",
    "\n",
    "2. **Quantum Fourier Transform**:\n",
    "   In the implementation of the Quantum Fourier Transform (QFT), controlled phase gates are used, where phase kickback plays a crucial role in distributing phases among qubits.\n",
    "\n",
    "3. **Grover's Algorithm**:\n",
    "   Phase kickback is involved in the oracle phase inversion and diffusion operations, contributing to the algorithm's ability to amplify the probability of the correct solution.\n",
    "\n",
    "4. **Error Correction**:\n",
    "   In quantum error correction codes, phase kickback helps to propagate error syndromes, allowing for the detection and correction of errors in quantum states.\n",
    "\n",
    "### Summary:\n",
    "\n",
    "Phase kickback is a powerful tool in quantum computing, enabling the manipulation and extraction of phase information from quantum states. It underscores the importance of phases in quantum operations and serves as a cornerstone for various quantum algorithms and protocols.\n"
   ]
  },
  {
   "cell_type": "markdown",
   "metadata": {},
   "source": [
    "$ v $ is an **eigenvector** for matrix $ A $ with **eigenvalue** $ \\lambda $ if $Av = {\\lambda}v$. We will talk about eigenvalues of quantum operator in more detail in the upcoming notebooks.\n"
   ]
  },
  {
   "cell_type": "markdown",
   "metadata": {},
   "source": [
    "Now consider the quantum state $\\ket{-}=\\frac{1}{\\sqrt{2}}\\ket{0}-\\frac{1}{\\sqrt{2}}\\ket{1}$. Let's check the effect of applying NOT operator to the quantum state $\\ket{-}$.\n"
   ]
  },
  {
   "cell_type": "markdown",
   "metadata": {},
   "source": [
    "\\begin{align*}\n",
    "\\ket{-} \\xrightarrow{NOT} &= \\frac{1}{\\sqrt{2}} \\ket{1} - \\frac{1}{\\sqrt{2}} \\ket{0}= \\text{-} \\left(\\frac{1}{\\sqrt{2}} \\ket{0} - \\frac{1}{\\sqrt{2}} \\ket{1}\\right)= \\text{-}\\ket{-}\n",
    "\\end{align*}\n"
   ]
  },
  {
   "cell_type": "markdown",
   "metadata": {},
   "source": [
    "So we see that $NOT\\ket{-} = \\text{-}\\ket{-}$. $\\ket{-}$ is an eigenstate of the $NOT$ operator with eigenvalue -1.\n"
   ]
  },
  {
   "cell_type": "markdown",
   "metadata": {},
   "source": [
    "<h3> Task 1</h3>\n",
    "\n",
    "What is the other eigenstate of the $NOT$ operator? What is the corresponding eigenvalue?\n"
   ]
  },
  {
   "cell_type": "markdown",
   "metadata": {},
   "source": [
    "Note that $$NOT\\ket{+} = NOT(\\frac{1}{\\sqrt{2}} \\ket{0} + \\frac{1}{\\sqrt{2}} \\ket{1}) = \\frac{1}{\\sqrt{2}} NOT\\ket{0} + \\frac{1}{\\sqrt{2}} NOT\\ket{1}  = \\frac{1}{\\sqrt{2}} \\ket{1} + \\frac{1}{\\sqrt{2}} \\ket{0} = \\ket{+}$$\n",
    "\n",
    "Hence, we can conclude that $\\ket{+}$ is an eigenstate of the $NOT$ operator with eigenvalue 1.\n"
   ]
  },
  {
   "cell_type": "markdown",
   "metadata": {},
   "source": [
    "---\n"
   ]
  },
  {
   "cell_type": "markdown",
   "metadata": {},
   "source": [
    "Now we will observe another interesting quantum effect here. Suppose that the second qubit is in state $\\ket{-}$.\n"
   ]
  },
  {
   "cell_type": "markdown",
   "metadata": {},
   "source": [
    "When the first qubit is in state $\\ket{0}$, then $CNOT$ does not have any effect.\n",
    "\n",
    "$\\ket{0}\\ket{-} \\xrightarrow{CNOT} \\ket{0}\\ket{-}$\n"
   ]
  },
  {
   "cell_type": "markdown",
   "metadata": {},
   "source": [
    "When the first qubit is in state $\\ket{1}$, then we have the following state.\n",
    "\n",
    "$\\ket{1}\\ket{-} \\xrightarrow{CNOT} \\text{-}\\ket{1}\\ket{-}$\n"
   ]
  },
  {
   "cell_type": "markdown",
   "metadata": {},
   "source": [
    "Now suppose that first qubit is in state $\\alpha \\ket{0} + \\beta \\ket{1}$ and the second qubit is in state $\\ket{-}$, that is we have the following quantum state $\\alpha \\ket{0}\\ket{-} + \\beta \\ket{1}\\ket{-}$.\n",
    "\n",
    "$\\alpha \\ket{0}\\ket{-} + \\beta \\ket{1}\\ket{-} \\xrightarrow{CNOT} \\alpha \\ket{0}\\ket{-} ~-~ \\beta \\ket{1}\\ket{-} = (\\alpha \\ket{0} - \\beta \\ket{1})\\ket{-}$\n"
   ]
  },
  {
   "cell_type": "markdown",
   "metadata": {},
   "source": [
    "The state of the first qubit after the $CNOT$ is $\\alpha \\ket{0} - \\beta \\ket{1}$\n",
    "\n",
    "The amplitude of $ \\ket{1} $ of the first qubit changes sign after the $CNOT$ operator.\n",
    "This is called <b>phase kickback</b>.\n",
    "\n",
    "_The eigenvalue is kicked back to the control register._\n"
   ]
  },
  {
   "cell_type": "markdown",
   "metadata": {},
   "source": [
    "<img src=\"../images/phase_kickback.png\" width=\"30%\" align=\"center\">\n"
   ]
  },
  {
   "cell_type": "markdown",
   "metadata": {},
   "source": [
    "<h3> Task 2</h3>\n",
    "\n",
    "Create a quantum circuit with a qreg register of two qubits.\n",
    "\n",
    "Set the state of qreg[0] to $ \\ket{1} $.\n",
    "\n",
    "Set the state of qreg[1] to $ \\ket{0} $.\n",
    "\n",
    "Apply Hadamard to both qubits.\n",
    "\n",
    "Apply $CNOT$ operator, where the controller qubit is qreg[1] and the target qubit is qreg[0].\n",
    "\n",
    "Apply Hadamard to both qubits.\n",
    "\n",
    "Measure the outcomes.\n",
    "\n",
    "We start in quantum state $ \\ket{01} $ (Keep in mind the Qiskit order). What is the outcome?\n"
   ]
  },
  {
   "cell_type": "code",
   "execution_count": 12,
   "metadata": {},
   "outputs": [
    {
     "data": {
      "text/html": [
       "<pre style=\"word-wrap: normal;white-space: pre;background: #fff0;line-height: 1.1;font-family: &quot;Courier New&quot;,Courier,monospace\">      ┌───┐┌───┐┌───┐┌───┐┌─┐   \n",
       "q8_0: ┤ X ├┤ H ├┤ X ├┤ H ├┤M├───\n",
       "      ├───┤└───┘└─┬─┘├───┤└╥┘┌─┐\n",
       "q8_1: ┤ H ├───────■──┤ H ├─╫─┤M├\n",
       "      └───┘          └───┘ ║ └╥┘\n",
       "c7: 2/═════════════════════╩══╩═\n",
       "                           0  1 </pre>"
      ],
      "text/plain": [
       "      ┌───┐┌───┐┌───┐┌───┐┌─┐   \n",
       "q8_0: ┤ X ├┤ H ├┤ X ├┤ H ├┤M├───\n",
       "      ├───┤└───┘└─┬─┘├───┤└╥┘┌─┐\n",
       "q8_1: ┤ H ├───────■──┤ H ├─╫─┤M├\n",
       "      └───┘          └───┘ ║ └╥┘\n",
       "c7: 2/═════════════════════╩══╩═\n",
       "                           0  1 "
      ]
     },
     "execution_count": 12,
     "metadata": {},
     "output_type": "execute_result"
    }
   ],
   "source": [
    "# import all necessary objects and methods for quantum circuits\n",
    "from qiskit import QuantumRegister, ClassicalRegister, QuantumCircuit\n",
    "from qiskit_aer import AerSimulator\n",
    "\n",
    "qreg = QuantumRegister(2) # quantum register with 2 qubits\n",
    "creg = ClassicalRegister(2) # classical register with 2 bits\n",
    "\n",
    "mycircuit1 = QuantumCircuit(qreg,creg) # quantum circuit with quantum and classical registers\n",
    "\n",
    "# qreg[1] is in |0> state\n",
    "\n",
    "# set qreg[0] to |1>\n",
    "mycircuit1.x(qreg[0]) # apply x-gate (NOT operator)\n",
    "\n",
    "# apply Hadamard to both qubits.\n",
    "mycircuit1.h(qreg)\n",
    "\n",
    "# apply CNOT operator, where the controller qubit is the qreg[1] and the target qubit is the qreg[0].\n",
    "mycircuit1.cx(qreg[1],qreg[0])\n",
    "\n",
    "# apply Hadamard to both qubits.\n",
    "mycircuit1.h(qreg)\n",
    "\n",
    "# measure both qubits\n",
    "mycircuit1.measure(qreg,creg)\n",
    "\n",
    "# draw circit\n",
    "mycircuit1.draw()\n"
   ]
  },
  {
   "cell_type": "code",
   "execution_count": 13,
   "metadata": {},
   "outputs": [
    {
     "name": "stdout",
     "output_type": "stream",
     "text": [
      "We start in quantum state 01, and 11 is observed 100 times\n"
     ]
    }
   ],
   "source": [
    "# execute the circuit 100 times in the local simulator\n",
    "job = AerSimulator().run(mycircuit1,shots=100)\n",
    "counts = job.result().get_counts()\n",
    "\n",
    "# print the reverse of the outcome\n",
    "for outcome in counts:\n",
    "    print(\"We start in quantum state 01, and\",outcome,\"is observed\",counts[outcome],\"times\")"
   ]
  },
  {
   "cell_type": "markdown",
   "metadata": {},
   "source": [
    "<h2> Analysis </h2>\n",
    "\n",
    "We start in state $\\ket{01}$.\n",
    "\n",
    "The quantum state of the first qubit before $CNOT$:\n",
    "\n",
    "$$\n",
    "    \\ket{0} \\xrightarrow{H} \\frac{1}{\\sqrt{2}} \\ket{0} + \\frac{1}{\\sqrt{2}} \\ket{1}.\n",
    "$$\n",
    "\n",
    "The quantum state of the second qubit before $CNOT$:\n",
    "\n",
    "$$\n",
    "    \\ket{1} \\xrightarrow{H} \\frac{1}{\\sqrt{2}} \\ket{0} - \\frac{1}{\\sqrt{2}} \\ket{1}.\n",
    "$$\n"
   ]
  },
  {
   "cell_type": "markdown",
   "metadata": {},
   "source": [
    "The quantum state of the composite system:\n",
    "\n",
    "$$\n",
    "   ({ \\frac{1}{\\sqrt{2}} \\ket{0} + \\frac{1}{\\sqrt{2}} \\ket{1} })\n",
    "   \\otimes\n",
    "   ({ \\frac{1}{\\sqrt{2}} \\ket{0} - \\frac{1}{\\sqrt{2}} \\ket{1}  })\n",
    "$$\n"
   ]
  },
  {
   "cell_type": "markdown",
   "metadata": {},
   "source": [
    "$CNOT$ affects when the first qubit has the value 1.\n",
    "\n",
    "Let's rewrite the composite state as below to explicitly represent the effect of CNOT.\n",
    "\n",
    "$$\n",
    "     (\\frac{1}{\\sqrt{2}} \\ket{0}) \\otimes ({ \\frac{1}{\\sqrt{2}} \\ket{0} - \\frac{1}{\\sqrt{2}} \\ket{1}  })\n",
    "     +\n",
    "     (\\frac{1}{\\sqrt{2}} \\ket{1}) \\otimes ({ \\frac{1}{\\sqrt{2}} \\ket{0} - \\frac{1}{\\sqrt{2}} \\ket{1}  })\n",
    "$$\n"
   ]
  },
  {
   "cell_type": "markdown",
   "metadata": {},
   "source": [
    "$CNOT$ flips the state of the second qubit.\n",
    "\n",
    "After $CNOT$, we have:\n",
    "\n",
    "$$\n",
    "     \\frac{1}{\\sqrt{2}} \\ket{0} \\otimes ({ \\frac{1}{\\sqrt{2}} \\ket{0} - \\frac{1}{\\sqrt{2}} \\ket{1}  })\n",
    "     +\n",
    "     \\frac{1}{\\sqrt{2}} \\ket{1} \\otimes { \\frac{1}{\\sqrt{2}} \\ket{1} - \\frac{1}{\\sqrt{2}} \\ket{0}  }\n",
    "$$\n",
    "\n",
    "Remark that $\\ket{0}$ and $ \\ket{1} $ are swapped in the second qubit.\n",
    "\n",
    "Thus the last equation can be equivalently written as follows:\n",
    "\n",
    "$$\n",
    "     \\frac{1}{\\sqrt{2}} \\ket{0} \\otimes ({ \\frac{1}{\\sqrt{2}} \\ket{0} - \\frac{1}{\\sqrt{2}} \\ket{1}  })\n",
    "     -\n",
    "     \\frac{1}{\\sqrt{2}} \\ket{1} \\otimes ({ \\frac{1}{\\sqrt{2}} \\ket{0} - \\frac{1}{\\sqrt{2}} \\ket{1}  })\n",
    "$$\n",
    "\n",
    "It is easy to see from the last expression, that the quantum states of the qubits are separable (no correlation):\n",
    "\n",
    "$$\n",
    "   ({ \\frac{1}{\\sqrt{2}} \\ket{0} - \\frac{1}{\\sqrt{2}} \\ket{1} } )\n",
    "   \\otimes\n",
    "   ({ \\frac{1}{\\sqrt{2}} \\ket{0} - \\frac{1}{\\sqrt{2}} \\ket{1}  })\n",
    "$$\n",
    "\n",
    "Note that the sign of $ \\ket{1} $ in the first qubit is flipped.\n"
   ]
  },
  {
   "cell_type": "markdown",
   "metadata": {},
   "source": [
    "If we apply Hadamard to each qubit, both qubits evolve to state $ \\ket{1} $.\n",
    "\n",
    "Hence, the final state is $ \\ket{11} $.\n"
   ]
  },
  {
   "cell_type": "markdown",
   "metadata": {},
   "source": [
    "<h3> Task 3 </h3>\n",
    "\n",
    "Create a circuit with 7 qubits.\n",
    "\n",
    "Set the states of the qubits 1-6 to $ \\ket{0} $.\n",
    "\n",
    "Set the state of the qubit 0 to $ \\ket{1} $.\n",
    "\n",
    "Apply Hadamard operators to all qubits.\n",
    "\n",
    "Apply $CNOT$ operator (1,0)\n",
    "<br>\n",
    "Apply $CNOT$ operator (4,0)\n",
    "<br>\n",
    "Apply $CNOT$ operator (5,0)\n",
    "\n",
    "Apply Hadamard operators to all qubits.\n",
    "\n",
    "Measure all qubits.\n",
    "\n",
    "For each $CNOT$ operator, do we have a phase-kickback effect?\n"
   ]
  },
  {
   "cell_type": "code",
   "execution_count": 1,
   "metadata": {},
   "outputs": [
    {
     "data": {
      "text/html": [
       "<pre style=\"word-wrap: normal;white-space: pre;background: #fff0;line-height: 1.1;font-family: &quot;Courier New&quot;,Courier,monospace\">      ┌───┐┌───┐┌───┐     ┌───┐┌───┐┌───┐      ┌─┐   \n",
       "q1_0: ┤ X ├┤ H ├┤ X ├─────┤ X ├┤ X ├┤ H ├──────┤M├───\n",
       "      ├───┤└───┘└─┬─┘┌───┐└─┬─┘└─┬─┘└───┘┌─┐   └╥┘   \n",
       "q1_1: ┤ H ├───────■──┤ H ├──┼────┼───────┤M├────╫────\n",
       "      ├───┤┌───┐ ┌─┐ └───┘  │    │       └╥┘    ║    \n",
       "q1_2: ┤ H ├┤ H ├─┤M├────────┼────┼────────╫─────╫────\n",
       "      ├───┤├───┤ └╥┘  ┌─┐   │    │        ║     ║    \n",
       "q1_3: ┤ H ├┤ H ├──╫───┤M├───┼────┼────────╫─────╫────\n",
       "      ├───┤└───┘  ║   └╥┘   │    │  ┌───┐ ║ ┌─┐ ║    \n",
       "q1_4: ┤ H ├───────╫────╫────■────┼──┤ H ├─╫─┤M├─╫────\n",
       "      ├───┤       ║    ║         │  ├───┤ ║ └╥┘ ║ ┌─┐\n",
       "q1_5: ┤ H ├───────╫────╫─────────■──┤ H ├─╫──╫──╫─┤M├\n",
       "      ├───┤┌───┐  ║    ║   ┌─┐      └───┘ ║  ║  ║ └╥┘\n",
       "q1_6: ┤ H ├┤ H ├──╫────╫───┤M├────────────╫──╫──╫──╫─\n",
       "      └───┘└───┘  ║    ║   └╥┘            ║  ║  ║  ║ \n",
       "c0: 7/════════════╩════╩════╩═════════════╩══╩══╩══╩═\n",
       "                  2    3    6             1  4  0  5 </pre>"
      ],
      "text/plain": [
       "      ┌───┐┌───┐┌───┐     ┌───┐┌───┐┌───┐      ┌─┐   \n",
       "q1_0: ┤ X ├┤ H ├┤ X ├─────┤ X ├┤ X ├┤ H ├──────┤M├───\n",
       "      ├───┤└───┘└─┬─┘┌───┐└─┬─┘└─┬─┘└───┘┌─┐   └╥┘   \n",
       "q1_1: ┤ H ├───────■──┤ H ├──┼────┼───────┤M├────╫────\n",
       "      ├───┤┌───┐ ┌─┐ └───┘  │    │       └╥┘    ║    \n",
       "q1_2: ┤ H ├┤ H ├─┤M├────────┼────┼────────╫─────╫────\n",
       "      ├───┤├───┤ └╥┘  ┌─┐   │    │        ║     ║    \n",
       "q1_3: ┤ H ├┤ H ├──╫───┤M├───┼────┼────────╫─────╫────\n",
       "      ├───┤└───┘  ║   └╥┘   │    │  ┌───┐ ║ ┌─┐ ║    \n",
       "q1_4: ┤ H ├───────╫────╫────■────┼──┤ H ├─╫─┤M├─╫────\n",
       "      ├───┤       ║    ║         │  ├───┤ ║ └╥┘ ║ ┌─┐\n",
       "q1_5: ┤ H ├───────╫────╫─────────■──┤ H ├─╫──╫──╫─┤M├\n",
       "      ├───┤┌───┐  ║    ║   ┌─┐      └───┘ ║  ║  ║ └╥┘\n",
       "q1_6: ┤ H ├┤ H ├──╫────╫───┤M├────────────╫──╫──╫──╫─\n",
       "      └───┘└───┘  ║    ║   └╥┘            ║  ║  ║  ║ \n",
       "c0: 7/════════════╩════╩════╩═════════════╩══╩══╩══╩═\n",
       "                  2    3    6             1  4  0  5 "
      ]
     },
     "execution_count": 1,
     "metadata": {},
     "output_type": "execute_result"
    }
   ],
   "source": [
    "# import all necessary objects and methods for quantum circuits\n",
    "from qiskit import QuantumRegister, ClassicalRegister, QuantumCircuit\n",
    "from qiskit_aer import AerSimulator\n",
    "\n",
    "\n",
    "# Create a circuit with 7 qubits.\n",
    "n = 7\n",
    "qreg2 = QuantumRegister(n) # quantum register with n qubits\n",
    "creg2 = ClassicalRegister(n) # classical register with n bits\n",
    "\n",
    "mycircuit2 = QuantumCircuit(qreg2,creg2) \n",
    "\n",
    "# the qubits 1-6 are already in |0>\n",
    "\n",
    "# set qubit 0 to |1>\n",
    "mycircuit2.x(0) # apply x-gate (NOT operator)\n",
    "\n",
    "# apply Hadamard to all qubits.\n",
    "mycircuit2.h(qreg2)\n",
    "\n",
    "# apply CNOT operator (1,0) \n",
    "# apply CNOT operator (4,0) \n",
    "# apply CNOT operator (5,0)\n",
    "mycircuit2.cx(1,0)\n",
    "mycircuit2.cx(4,0)\n",
    "mycircuit2.cx(5,0)\n",
    "\n",
    "# apply Hadamard to all qubits.\n",
    "mycircuit2.h(qreg2)\n",
    "\n",
    "# measure all qubits\n",
    "mycircuit2.measure(qreg2,creg2)\n",
    "\n",
    "mycircuit2.draw()"
   ]
  },
  {
   "cell_type": "code",
   "execution_count": 15,
   "metadata": {},
   "outputs": [
    {
     "name": "stdout",
     "output_type": "stream",
     "text": [
      "the final value of the qubit nr. 6 is 0\n",
      "the final value of the qubit nr. 5 is 1\n",
      "the final value of the qubit nr. 4 is 1\n",
      "the final value of the qubit nr. 3 is 0\n",
      "the final value of the qubit nr. 2 is 0\n",
      "the final value of the qubit nr. 1 is 1\n",
      "the final value of the qubit nr. 0 is 1\n"
     ]
    }
   ],
   "source": [
    "# execute the circuit 100 times in the local simulator\n",
    "job = AerSimulator().run(mycircuit2,shots=100)\n",
    "counts = job.result().get_counts()\n",
    "\n",
    "# print the outcome\n",
    "for outcome in counts:\n",
    "    for i in range(len(outcome)):\n",
    "        print(\"the final value of the qubit nr.\",(n-i-1),\"is\",outcome[i])"
   ]
  },
  {
   "cell_type": "markdown",
   "metadata": {},
   "source": [
    "<h2>Phase kickback in general </h2>\n",
    "    \n",
    "Recall that it is possible to implement any boolean function $f:\\{0,1\\}^n \\rightarrow \\{0,1\\}$ in a reversible manner.\n",
    "\n",
    "<img src=\"../images/foperator.png\" width=\"30%\" align=\"center\">\n",
    "\n",
    "Here $U_f$, the corresponding quantum operator is defined as follows:\n",
    "\n",
    "$$U_f: \\ket{x}\\ket{y} \\mapsto \\ket{x}\\ket{y \\oplus f(x)} $$\n"
   ]
  },
  {
   "cell_type": "markdown",
   "metadata": {},
   "source": [
    "Now let's assume that $\\ket{y}=\\ket{-}$ and investigate the effect of the operator $U_f$.\n"
   ]
  },
  {
   "cell_type": "markdown",
   "metadata": {},
   "source": [
    "$$\n",
    "U_f \\ket{x}\\ket{-} = U_f \\ket{x}  \\frac{1}{\\sqrt{2}} ({ \\ket{0}-\\ket{1} })\\\\\n",
    "= \\frac{1}{\\sqrt{2}} (U_f\\ket{x}\\ket{0}-U_f\\ket{x}\\ket{1}) \\\\\n",
    "= \\frac{1}{\\sqrt{2}} (\\ket{x}\\ket{f(x)\\oplus 0} - \\ket{x}\\ket{f(x)\\oplus 1}) \\\\\n",
    "= \\ket{x} \\frac{1}{\\sqrt{2}}({ \\ket{f(x)}-\\ket{f(x)\\oplus 1}  }) \\\\\n",
    "= \\ket{x} (-1)^{f(x)} \\frac{1}{\\sqrt{2}} ({ \\ket{0}-\\ket{1} })\\\\\n",
    "= (-1)^{f(x)} \\ket{x} \\ket{-}\n",
    "$$\n"
   ]
  },
  {
   "cell_type": "markdown",
   "metadata": {},
   "source": [
    "We have the following transformation:\n",
    "$$ U_f \\ket{x}\\ket{-} \\xrightarrow{U_f} (-1)^{f(x)} \\ket{x}\\ket{-} $$\n"
   ]
  },
  {
   "cell_type": "markdown",
   "metadata": {},
   "source": [
    "Depending on the value of $x$, and therefore $f(x)$, we again see that we have a phase of -1 is kicked back to the front of the first register when $f(x)=1$.\n"
   ]
  },
  {
   "cell_type": "markdown",
   "metadata": {},
   "source": [
    "This idea is useful in many quantum algorithms.\n"
   ]
  }
 ],
 "metadata": {
  "kernelspec": {
   "display_name": "Python 3 (ipykernel)",
   "language": "python",
   "name": "python3"
  },
  "language_info": {
   "codemirror_mode": {
    "name": "ipython",
    "version": 3
   },
   "file_extension": ".py",
   "mimetype": "text/x-python",
   "name": "python",
   "nbconvert_exporter": "python",
   "pygments_lexer": "ipython3",
   "version": "3.12.4"
  }
 },
 "nbformat": 4,
 "nbformat_minor": 4
}
