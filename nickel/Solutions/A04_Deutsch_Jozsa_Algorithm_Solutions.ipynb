{
 "cells": [
  {
   "cell_type": "markdown",
   "metadata": {},
   "source": [
    "<table> <tr>\n",
    "        <td  style=\"background-color:#ffffff;\">\n",
    "            <a href=\"https://qworld.net\" target=\"_blank\"><img src=\"../images/qworld.jpg\" width=\"25%\" align=\"left\"> </a></td>\n",
    "        <td style=\"background-color:#ffffff;vertical-align:bottom;text-align:right;\">\n",
    "            prepared by Arda Çınar and Özlem Salehi (<a href=\"https://qworld.net/qturkey/\" target=\"_blank\">QTurkey</a>)\n",
    "        </td>        \n",
    "</tr></table>"
   ]
  },
  {
   "cell_type": "markdown",
   "metadata": {},
   "source": [
    "<h1> <font color=\"blue\"> Solutions for </font> Deutsch-Jozsa Algorithm </h1> "
   ]
  },
  {
   "cell_type": "markdown",
   "metadata": {},
   "source": [
    "<a id=\"task3\"></a>\n",
    "<h3> Task 3 (Discussion)</h3> \n",
    "\n",
    "- How many times do we need to use the oracle f, if we want to solve this problem clasically, in the worst case?\n",
    "\n",
    "- How many times do you think we will use the oracle f while solving it with a quantum computer?"
   ]
  },
  {
   "cell_type": "markdown",
   "metadata": {},
   "source": [
    "<h3>Solution</h3>"
   ]
  },
  {
   "cell_type": "markdown",
   "metadata": {},
   "source": [
    "- We need to make at least $\\frac{2^n}{2} + 1$ queries in the worst case to make sure that the function is etiher balanced or constant."
   ]
  },
  {
   "cell_type": "markdown",
   "metadata": {},
   "source": [
    "<a id=\"task4\"></a>\n",
    "<h3>Task 4</h3>\n",
    "\n",
    "You are given an oracle function called `oraclej(n)`, which returns a random quantum circuit with `n+1` qubits corresponding to a constant or even fuction. `oraclej(n)` represents the $U_f$ in our algorithm.\n",
    "\n",
    "Let $n=4$. Implement the proposed algorithm to decide whether or not $f$ is constant or balanced. Note that qubit 4 is the output qubit.\n",
    "\n",
    "(Note: You should be able the see the circuit structure of $U_f$, if you draw your circuit. Can you check whether your result is correct or not by looking at this circuit?)\n",
    "\n",
    "Don't forget to run the following cell to load the oracle function.\n"
   ]
  },
  {
   "cell_type": "code",
   "execution_count": null,
   "metadata": {},
   "outputs": [],
   "source": [
    "%run ../include/oracle.py"
   ]
  },
  {
   "cell_type": "code",
   "execution_count": null,
   "metadata": {},
   "outputs": [],
   "source": [
    "import random\n",
    "from qiskit import QuantumCircuit\n",
    "from qiskit_aer import AerSimulator\n",
    "\n",
    "dj_circuit = QuantumCircuit(5, 4)\n",
    "\n",
    "dj_circuit.x(4)\n",
    "\n",
    "dj_circuit.h(range(5))\n",
    "\n",
    "dj_circuit.compose(oraclej(4), inplace=True)\n",
    "\n",
    "dj_circuit.h(range(4))\n",
    "dj_circuit.measure(range(4), range(4))\n",
    "dj_circuit.draw(output='mpl')"
   ]
  },
  {
   "cell_type": "code",
   "execution_count": null,
   "metadata": {},
   "outputs": [],
   "source": [
    "job = AerSimulator().run(dj_circuit,shots=10000)\n",
    "counts = job.result().get_counts()\n",
    "print(counts)"
   ]
  },
  {
   "cell_type": "markdown",
   "metadata": {},
   "source": [
    "<a id=\"task5\"></a>\n",
    "<h3>Task 5</h3>\n",
    "\n",
    "Write two functions `balanced(n)` and `constant(n)` to randomly generate quantum circuits with $n+1$ qubits that implement a function $ f : \\{0, 1\\}^n \\rightarrow \\{0, 1\\} $ such that $f$ is either constant or balanced. \n",
    "\n",
    "Note that qubit $n$ is the output qubit."
   ]
  },
  {
   "cell_type": "code",
   "execution_count": null,
   "metadata": {},
   "outputs": [],
   "source": [
    "import random\n",
    "from qiskit import QuantumCircuit\n",
    "from qiskit_aer import AerSimulator\n",
    "\n",
    "#f(x)=0 if first qubit is 0, if x_1=0\n",
    "#f(x)=1 if first qubit is 1, if x_1=1\n",
    "def balanced(n):\n",
    "    circuit = QuantumCircuit(n+1)\n",
    "    circuit.barrier()\n",
    "    \n",
    "    circuit.cx(0,n)\n",
    "    \n",
    "    circuit.barrier()\n",
    "    return circuit\n",
    "    \n",
    "#f(x)=0    \n",
    "def constant(n):\n",
    "    circuit = QuantumCircuit(n+1)\n",
    "    circuit.barrier()\n",
    "    \n",
    "    #do nothing\n",
    "\n",
    "    circuit.barrier()\n",
    "    return circuit"
   ]
  },
  {
   "cell_type": "code",
   "execution_count": null,
   "metadata": {},
   "outputs": [],
   "source": [
    "n=5\n",
    "balanced(n).draw(output='mpl')"
   ]
  },
  {
   "cell_type": "code",
   "execution_count": null,
   "metadata": {},
   "outputs": [],
   "source": [
    "n=5\n",
    "constant(n).draw(output='mpl')"
   ]
  },
  {
   "cell_type": "markdown",
   "metadata": {},
   "source": [
    "<pre style=\"word-wrap: normal;white-space: pre;background: #fff0;line-height: 1.1;font-family: &quot;Courier New&quot;,Courier,monospace\">      ┌───┐┌───┐┌───┐     ┌───┐┌───┐┌───┐      ┌─┐   \n",
    "q1_0: ┤ X ├┤ H ├┤ X ├─────┤ X ├┤ X ├┤ H ├──────┤M├───\n",
    "      ├───┤└───┘└─┬─┘┌───┐└─┬─┘└─┬─┘└───┘┌─┐   └╥┘   \n",
    "q1_1: ┤ H ├───────■──┤ H ├──┼────┼───────┤M├────╫────\n",
    "      ├───┤┌───┐ ┌─┐ └───┘  │    │       └╥┘    ║    \n",
    "q1_2: ┤ H ├┤ H ├─┤M├────────┼────┼────────╫─────╫────\n",
    "      ├───┤├───┤ └╥┘  ┌─┐   │    │        ║     ║    \n",
    "q1_3: ┤ H ├┤ H ├──╫───┤M├───┼────┼────────╫─────╫────\n",
    "      ├───┤└───┘  ║   └╥┘   │    │  ┌───┐ ║ ┌─┐ ║    \n",
    "q1_4: ┤ H ├───────╫────╫────■────┼──┤ H ├─╫─┤M├─╫────\n",
    "      ├───┤       ║    ║         │  ├───┤ ║ └╥┘ ║ ┌─┐\n",
    "q1_5: ┤ H ├───────╫────╫─────────■──┤ H ├─╫──╫──╫─┤M├\n",
    "      ├───┤┌───┐  ║    ║   ┌─┐      └───┘ ║  ║  ║ └╥┘\n",
    "q1_6: ┤ H ├┤ H ├──╫────╫───┤M├────────────╫──╫──╫──╫─\n",
    "      └───┘└───┘  ║    ║   └╥┘            ║  ║  ║  ║ \n",
    "c0: 7/════════════╩════╩════╩═════════════╩══╩══╩══╩═\n",
    "                  2    3    6             1  4  0  5 </pre>"
   ]
  }
 ],
 "metadata": {
  "kernelspec": {
   "display_name": "Python 3 (ipykernel)",
   "language": "python",
   "name": "python3"
  },
  "language_info": {
   "codemirror_mode": {
    "name": "ipython",
    "version": 3
   },
   "file_extension": ".py",
   "mimetype": "text/x-python",
   "name": "python",
   "nbconvert_exporter": "python",
   "pygments_lexer": "ipython3",
   "version": "3.10.12"
  }
 },
 "nbformat": 4,
 "nbformat_minor": 4
}
