{
 "cells": [
  {
   "cell_type": "markdown",
   "metadata": {},
   "source": [
    "<table  align=\"left\" width=\"100%\"> <tr>\n",
    "        <td  style=\"background-color:#ffffff;\"><a href=\"https://qworld.net\" target=\"_blank\"><img src=\"../images/qworld.jpg\" width=\"35%\" align=\"left\"></a></td>\n",
    "        <td  align=\"right\" style=\"background-color:#ffffff;vertical-align:bottom;horizontal-align:right\">\n",
    "            prepared by <a href=\"https://iitis.pl/pl/person/aglos\" target=\"_blank\"  >Adam Glos</a>\n",
    "        </td>        \n",
    "</tr></table>"
   ]
  },
  {
   "cell_type": "markdown",
   "metadata": {},
   "source": [
    "# <font color=\"blue\"> Solutions for </font> Grover's Algorithm revisited"
   ]
  },
  {
   "cell_type": "markdown",
   "metadata": {},
   "source": [
    "<a id=\"task1\"></a>\n",
    "### Task 1 \n",
    "\n",
    "Create a 4-qubit circuit named `circuit` and apply a Hadamard gate on each qubit. Convince yourself about the correctness of the circuit by displaying it. Print the quantum state with `Simulator` without measurement."
   ]
  },
  {
   "cell_type": "code",
   "execution_count": 1,
   "metadata": {},
   "outputs": [
    {
     "name": "stdout",
     "output_type": "stream",
     "text": [
      "0: ───H───\n",
      "\n",
      "1: ───H───\n",
      "\n",
      "2: ───H───\n",
      "\n",
      "3: ───H───\n",
      "measurements: (no measurements)\n",
      "\n",
      "qubits: (cirq.LineQubit(0),)\n",
      "output vector: 0.707|0⟩ + 0.707|1⟩\n",
      "\n",
      "qubits: (cirq.LineQubit(1),)\n",
      "output vector: 0.707|0⟩ + 0.707|1⟩\n",
      "\n",
      "qubits: (cirq.LineQubit(2),)\n",
      "output vector: 0.707|0⟩ + 0.707|1⟩\n",
      "\n",
      "qubits: (cirq.LineQubit(3),)\n",
      "output vector: 0.707|0⟩ + 0.707|1⟩\n",
      "\n",
      "phase:\n",
      "output vector: |⟩\n",
      "0.25|0000⟩ + 0.25|0001⟩ + 0.25|0010⟩ + 0.25|0011⟩ + 0.25|0100⟩ + 0.25|0101⟩ + 0.25|0110⟩ + 0.25|0111⟩ + 0.25|1000⟩ + 0.25|1001⟩ + 0.25|1010⟩ + 0.25|1011⟩ + 0.25|1100⟩ + 0.25|1101⟩ + 0.25|1110⟩ + 0.25|1111⟩\n"
     ]
    }
   ],
   "source": [
    "import cirq\n",
    "\n",
    "# create the circuit\n",
    "circuit = cirq.Circuit()\n",
    "qubits = cirq.LineQubit.range(4)\n",
    "circuit.append(cirq.H.on_each(*qubits))\n",
    "\n",
    "# for displaying the circuit\n",
    "print(circuit)\n",
    "\n",
    "# to print the state\n",
    "s = cirq.Simulator()\n",
    "print(s.simulate(circuit))\n",
    "print(s.simulate(circuit).dirac_notation())"
   ]
  },
  {
   "cell_type": "markdown",
   "metadata": {},
   "source": [
    "<a id=\"task2\"></a>\n",
    "### Task 2 \n",
    "    \n",
    "Create a 3-qubit register and design the Grover diffusion operator based on the circuit above. Print the circuit and its matrix form by using `cirq.unitary`. Verify that the circuit by checking the entries of the matrix."
   ]
  },
  {
   "cell_type": "markdown",
   "metadata": {},
   "source": [
    "<h3> Solution </h3>"
   ]
  },
  {
   "cell_type": "code",
   "execution_count": null,
   "metadata": {},
   "outputs": [],
   "source": [
    "import cirq\n",
    "from cirq import H, X, Z\n",
    "\n",
    "# create the circuit\n",
    "qq = cirq.LineQubit.range(3)\n",
    "circuit = cirq.Circuit()\n",
    "circuit.append(H.on_each(*qq))\n",
    "circuit.append(X.on_each(*qq))\n",
    "circuit.append(Z(qq[2]).controlled_by(qq[0], qq[1]))\n",
    "circuit.append(X.on_each(*qq))\n",
    "circuit.append(H.on_each(*qq))\n",
    "\n",
    "# display the circuit\n",
    "print(circuit)\n",
    "\n",
    "# Print the unitary matrix. Note that on the entries on the diagonal should equal 1-2/N = 3/4, \n",
    "# while for the outer-diagonal it should be -2/N = 1/4 =0.125\n",
    "\n",
    "N = 2**3\n",
    "print(\"On the diagonal:\", 1-2/N)\n",
    "print(\"Outside the main diagonal:\", -2/N, \"\\n\")\n",
    "print(cirq.unitary(circuit))"
   ]
  },
  {
   "cell_type": "markdown",
   "metadata": {},
   "source": [
    "<a id=\"task3\"></a>\n",
    "### Task 3\n",
    "\n",
    "Fill the `oracle` and `grover_diffusion` so that they will form a 4-qubit Grover's algorithm. You can use the code from previous tasks. Verify the results by analyzing the statistics of the measurements."
   ]
  },
  {
   "cell_type": "markdown",
   "metadata": {},
   "source": [
    "<h3> Solution </h3>"
   ]
  },
  {
   "cell_type": "code",
   "execution_count": null,
   "metadata": {},
   "outputs": [],
   "source": [
    "import cirq\n",
    "from cirq import H, Z, X\n",
    "\n",
    "qq = cirq.LineQubit.range(4)\n",
    "circuit = cirq.Circuit()\n",
    "circuit.append(H.on_each(*qq))\n",
    "\n",
    "def oracle():\n",
    "    yield Z(qq[3]).controlled_by(*(qq[0:3]))\n",
    "\n",
    "\n",
    "def grover_diffusion():\n",
    "    yield H.on_each(*qq)\n",
    "    yield X.on_each(*qq)\n",
    "    yield Z(qq[3]).controlled_by(*(qq[0:3]))\n",
    "    yield X.on_each(*qq)\n",
    "    yield H.on_each(*qq)\n",
    "\n",
    "for i in range(3):\n",
    "    circuit.append(oracle())\n",
    "    circuit.append(grover_diffusion())\n",
    "\n",
    "circuit.append(cirq.measure(*qq, key='result'))\n",
    "    \n",
    "# determine the statistics of the measurements\n",
    "s = cirq.Simulator() \n",
    "trials_number = 1000\n",
    "samples = s.run(circuit, repetitions=trials_number)\n",
    "\n",
    "def bitstring(bits):\n",
    "    return \"\".join(str(int(b)) for b in bits)\n",
    "\n",
    "counts = samples.histogram(key=\"result\",fold_func=bitstring)\n",
    "\n",
    "print(\"Measurement output: \", counts)\n",
    "print(\"Probability of measuring 1111: \", counts.get('1111')/trials_number)\n",
    "print(\"Probability of not measuring 1111: \", 1- counts.get('1111')/trials_number)"
   ]
  },
  {
   "cell_type": "code",
   "execution_count": null,
   "metadata": {},
   "outputs": [],
   "source": []
  }
 ],
 "metadata": {
  "kernelspec": {
   "display_name": ".venv",
   "language": "python",
   "name": "python3"
  },
  "language_info": {
   "codemirror_mode": {
    "name": "ipython",
    "version": 3
   },
   "file_extension": ".py",
   "mimetype": "text/x-python",
   "name": "python",
   "nbconvert_exporter": "python",
   "pygments_lexer": "ipython3",
   "version": "3.12.4"
  }
 },
 "nbformat": 4,
 "nbformat_minor": 4
}
